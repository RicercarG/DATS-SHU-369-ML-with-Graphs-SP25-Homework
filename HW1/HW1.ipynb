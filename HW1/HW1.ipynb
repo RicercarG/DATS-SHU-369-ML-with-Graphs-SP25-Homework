{
  "cells": [
    {
      "cell_type": "markdown",
      "metadata": {
        "id": "1vHVAO_PxXPn"
      },
      "source": [
        "# DATS369: Machine Learning with Graphs Homework 1\n",
        "Due: Mar 8 23:59, 2025"
      ]
    },
    {
      "cell_type": "markdown",
      "metadata": {
        "id": "TCDKuV-ay5YX"
      },
      "source": [
        "# 1. NetworkX Tutorial (5 points)\n",
        "\n",
        "[NetworkX](https://networkx.org/documentation/stable/) is one of the most frequently used Python packages to create, manipulate, and mine graphs.\n",
        "\n",
        "Let's see how it works by running the following cells. **Free lunch**: we will give full credits for successful execution. Enjoy and welcome to the graph world!!!"
      ]
    },
    {
      "cell_type": "markdown",
      "metadata": {
        "id": "roAepzBDzmJm"
      },
      "source": [
        "## Setup\n",
        "\n"
      ]
    },
    {
      "cell_type": "code",
      "execution_count": null,
      "metadata": {
        "id": "SdHHM-lUzsEx"
      },
      "outputs": [
        {
          "name": "stdout",
          "output_type": "stream",
          "text": [
            "Requirement already satisfied: scipy in /Users/ricercar/miniconda3/envs/gnn/lib/python3.10/site-packages (1.15.2)\n",
            "Requirement already satisfied: networkx in /Users/ricercar/miniconda3/envs/gnn/lib/python3.10/site-packages (3.4.2)\n",
            "Requirement already satisfied: numpy<2.5,>=1.23.5 in /Users/ricercar/miniconda3/envs/gnn/lib/python3.10/site-packages (from scipy) (2.2.3)\n",
            "Note: you may need to restart the kernel to use updated packages.\n"
          ]
        }
      ],
      "source": [
        "# Upgrade packages\n",
        "%pip install --upgrade scipy networkx"
      ]
    },
    {
      "cell_type": "code",
      "execution_count": 22,
      "metadata": {
        "id": "dR_lGX3uzvnG"
      },
      "outputs": [
        {
          "data": {
            "text/plain": [
              "'3.4.2'"
            ]
          },
          "execution_count": 22,
          "metadata": {},
          "output_type": "execute_result"
        }
      ],
      "source": [
        "# Import the NetworkX package\n",
        "import networkx as nx\n",
        "nx.__version__"
      ]
    },
    {
      "cell_type": "markdown",
      "metadata": {
        "id": "J-SWUWJO0Dc7"
      },
      "source": [
        "## Graph\n",
        "\n",
        "NetworkX provides several classes to store different types of graphs, such as directed and undirected graph. It also provides classes to create multigraphs (both directed and undirected).\n",
        "\n",
        "For more information, please refer to NetworkX graph types."
      ]
    },
    {
      "cell_type": "code",
      "execution_count": 2,
      "metadata": {
        "id": "BM6h201V0E2A"
      },
      "outputs": [
        {
          "name": "stdout",
          "output_type": "stream",
          "text": [
            "False\n",
            "True\n",
            "{'Name': 'Bar'}\n"
          ]
        }
      ],
      "source": [
        "# Create an undirected graph G\n",
        "G = nx.Graph()\n",
        "print(G.is_directed())\n",
        "\n",
        "# Create a directed graph H\n",
        "H = nx.DiGraph()\n",
        "print(H.is_directed())\n",
        "\n",
        "# Add graph level attribute\n",
        "G.graph[\"Name\"] = \"Bar\"\n",
        "print(G.graph)"
      ]
    },
    {
      "cell_type": "markdown",
      "metadata": {
        "id": "QdP2mgLv0P5U"
      },
      "source": [
        "## Node\n",
        "Nodes (with attributes) can be easily added to NetworkX graphs."
      ]
    },
    {
      "cell_type": "code",
      "execution_count": 3,
      "metadata": {
        "id": "1CUKPlOb0UZG"
      },
      "outputs": [
        {
          "name": "stdout",
          "output_type": "stream",
          "text": [
            "Node 0 has the attributes {'feature': 5, 'label': 0}\n"
          ]
        }
      ],
      "source": [
        "# Add one node with node level attributes\n",
        "G.add_node(0, feature=5, label=0)\n",
        "\n",
        "# Get attributes of the node 0\n",
        "node_0_attr = G.nodes[0]\n",
        "print(\"Node 0 has the attributes {}\".format(node_0_attr))"
      ]
    },
    {
      "cell_type": "code",
      "execution_count": 4,
      "metadata": {
        "id": "Jwz8MPa_0Xcs"
      },
      "outputs": [
        {
          "data": {
            "text/plain": [
              "NodeDataView({0: {'feature': 5, 'label': 0}})"
            ]
          },
          "execution_count": 4,
          "metadata": {},
          "output_type": "execute_result"
        }
      ],
      "source": [
        "G.nodes(data=True)"
      ]
    },
    {
      "cell_type": "code",
      "execution_count": 5,
      "metadata": {
        "id": "eXbgo8p60Z-q"
      },
      "outputs": [
        {
          "name": "stdout",
          "output_type": "stream",
          "text": [
            "(0, {'feature': 5, 'label': 0})\n",
            "(1, {'feature': 1, 'label': 1})\n",
            "(2, {'feature': 2, 'label': 2})\n",
            "G has 3 nodes\n"
          ]
        }
      ],
      "source": [
        "# Add multiple nodes with attributes\n",
        "G.add_nodes_from([\n",
        "  (1, {\"feature\": 1, \"label\": 1}),\n",
        "  (2, {\"feature\": 2, \"label\": 2})\n",
        "]) #(node, attrdict)\n",
        "\n",
        "# Loop through all the nodes\n",
        "# Set data=True will return node attributes\n",
        "for node in G.nodes(data=True):\n",
        "  print(node)\n",
        "\n",
        "# Get number of nodes\n",
        "num_nodes = G.number_of_nodes()\n",
        "print(\"G has {} nodes\".format(num_nodes))"
      ]
    },
    {
      "cell_type": "markdown",
      "metadata": {
        "id": "ppiB7J8T0dFI"
      },
      "source": [
        "## Edge\n",
        "Similar to nodes, edges (with attributes) can also be easily added to NetworkX graphs."
      ]
    },
    {
      "cell_type": "code",
      "execution_count": 6,
      "metadata": {
        "id": "yGl49HJ40gaL"
      },
      "outputs": [
        {
          "name": "stdout",
          "output_type": "stream",
          "text": [
            "Edge (0, 1) has the attributes {'weight': 0.5}\n"
          ]
        }
      ],
      "source": [
        "# Add one edge with edge weight 0.5\n",
        "G.add_edge(0, 1, weight=0.5)\n",
        "\n",
        "# Get attributes of the edge (0, 1)\n",
        "edge_0_1_attr = G.edges[(0, 1)]\n",
        "print(\"Edge (0, 1) has the attributes {}\".format(edge_0_1_attr))"
      ]
    },
    {
      "cell_type": "code",
      "execution_count": 7,
      "metadata": {
        "id": "lO9VbTo60ib1"
      },
      "outputs": [
        {
          "name": "stdout",
          "output_type": "stream",
          "text": [
            "(0, 1)\n",
            "(0, 2)\n",
            "(1, 2)\n",
            "G has 3 edges\n"
          ]
        }
      ],
      "source": [
        "# Add multiple edges with edge weights\n",
        "G.add_edges_from([\n",
        "  (1, 2, {\"weight\": 0.3}),\n",
        "  (2, 0, {\"weight\": 0.1})\n",
        "])\n",
        "\n",
        "# Loop through all the edges\n",
        "# Here there is no data=True, so only the edge will be returned\n",
        "for edge in G.edges():\n",
        "  print(edge)\n",
        "\n",
        "# Get number of edges\n",
        "num_edges = G.number_of_edges()\n",
        "print(\"G has {} edges\".format(num_edges))"
      ]
    },
    {
      "cell_type": "markdown",
      "metadata": {
        "id": "QVHy0J4f0lTe"
      },
      "source": [
        "## Visualization\n",
        "NetworkX also provides tooling to conventiently visualize graphs."
      ]
    },
    {
      "cell_type": "code",
      "execution_count": 8,
      "metadata": {
        "id": "a1f5xebg0snM"
      },
      "outputs": [
        {
          "data": {
            "image/png": "[encoded data removed]",
            "text/plain": [
              "<Figure size 640x480 with 1 Axes>"
            ]
          },
          "metadata": {},
          "output_type": "display_data"
        }
      ],
      "source": [
        "# Draw the graph\n",
        "nx.draw(G, with_labels = True)"
      ]
    },
    {
      "cell_type": "markdown",
      "metadata": {
        "id": "FQOZOt3i0xrK"
      },
      "source": [
        "## Node Degree and Neighbors\n"
      ]
    },
    {
      "cell_type": "code",
      "execution_count": 9,
      "metadata": {
        "id": "UkIr4Jj600U8"
      },
      "outputs": [
        {
          "name": "stdout",
          "output_type": "stream",
          "text": [
            "Node 1 has degree 2\n",
            "Node 1 has neighbor 0\n",
            "Node 1 has neighbor 2\n"
          ]
        }
      ],
      "source": [
        "node_id = 1\n",
        "\n",
        "# Degree of node 1\n",
        "print(\"Node {} has degree {}\".format(node_id, G.degree[node_id]))\n",
        "\n",
        "# Get neighbor of node 1\n",
        "for neighbor in G.neighbors(node_id):\n",
        "  print(\"Node {} has neighbor {}\".format(node_id, neighbor))"
      ]
    },
    {
      "cell_type": "markdown",
      "metadata": {
        "id": "wigrGY1O01kb"
      },
      "source": [
        "# 2. Graph Basics 10 points）\n",
        "\n",
        "Let's go further. We will load a classic graph in network science, the [Karate Club Network](https://en.wikipedia.org/wiki/Zachary%27s_karate_club). Karate Club Network is a graph which describes a social network of 34 members of a karate club and documents links between members who interacted outside the club.We will explore multiple graph statistics for this graph."
      ]
    },
    {
      "cell_type": "markdown",
      "metadata": {
        "id": "Jkab7cCe3XbO"
      },
      "source": [
        "## Load the Zachary's karate club network\n",
        "\n",
        "The [Karate Club Network](https://en.wikipedia.org/wiki/Zachary%27s_karate_club) is a graph which describes a social network of 34 members of a karate club and documents links between members who interacted outside the club."
      ]
    },
    {
      "cell_type": "code",
      "execution_count": 10,
      "metadata": {
        "id": "615rPB4F5ncE"
      },
      "outputs": [],
      "source": [
        "import networkx as nx"
      ]
    },
    {
      "cell_type": "code",
      "execution_count": 11,
      "metadata": {
        "id": "EMMyE8Ya5q_N"
      },
      "outputs": [
        {
          "data": {
            "text/plain": [
              "networkx.classes.graph.Graph"
            ]
          },
          "execution_count": 11,
          "metadata": {},
          "output_type": "execute_result"
        }
      ],
      "source": [
        "G = nx.karate_club_graph()\n",
        "\n",
        "# G is an undirected graph\n",
        "type(G)"
      ]
    },
    {
      "cell_type": "code",
      "execution_count": 12,
      "metadata": {
        "id": "AEoCix9H5uKL"
      },
      "outputs": [
        {
          "data": {
            "image/png": "[encoded data removed]",
            "text/plain": [
              "<Figure size 640x480 with 1 Axes>"
            ]
          },
          "metadata": {},
          "output_type": "display_data"
        }
      ],
      "source": [
        "# Visualize the graph\n",
        "nx.draw(G, with_labels = True)"
      ]
    },
    {
      "cell_type": "markdown",
      "metadata": {
        "id": "BkBk5MNE5ypd"
      },
      "source": [
        "# 2.1: What is the average degree of the karate club network? (10 Points)"
      ]
    },
    {
      "cell_type": "code",
      "execution_count": 13,
      "metadata": {
        "id": "FU2vnJOq57Wj"
      },
      "outputs": [
        {
          "name": "stdout",
          "output_type": "stream",
          "text": [
            "Average degree of karate club network is 5\n"
          ]
        }
      ],
      "source": [
        "def average_degree(num_edges, num_nodes):\n",
        "  # TODO: Implement this function that takes number of edges\n",
        "  # and number of nodes, and returns the average node degree of\n",
        "  # the graph. Round the result to nearest integer (for example\n",
        "  # 3.3 will be rounded to 3 and 3.7 will be rounded to 4)\n",
        "\n",
        "  avg_degree = 0\n",
        "\n",
        "  ############# Your code here ############\n",
        "  avg_degree = round(2 * num_edges / num_nodes)\n",
        "  #########################################\n",
        "\n",
        "  return avg_degree\n",
        "\n",
        "num_edges = G.number_of_edges()\n",
        "num_nodes = G.number_of_nodes()\n",
        "avg_degree = average_degree(num_edges, num_nodes)\n",
        "print(\"Average degree of karate club network is {}\".format(avg_degree))"
      ]
    },
    {
      "cell_type": "markdown",
      "metadata": {
        "id": "gjBOrSA45_yY"
      },
      "source": [
        "## 2.2: What is the (raw) closeness centrality for the karate club network node 5? (10 Points)\n",
        "\n",
        "The equation for closeness centrality is $c(v) = \\frac{1}{\\sum_{u \\neq v}\\text{shortest path length between } u \\text{ and } v}$"
      ]
    },
    {
      "cell_type": "code",
      "execution_count": 29,
      "metadata": {
        "id": "XRhKViFj6IoF"
      },
      "outputs": [
        {
          "name": "stdout",
          "output_type": "stream",
          "text": [
            "The node 5 has closeness centrality 0.38\n"
          ]
        }
      ],
      "source": [
        "def closeness_centrality(G, node=5):\n",
        "  # TODO: Implement the function that calculates closeness centrality\n",
        "  # for a node in karate club network. G is the input karate club\n",
        "  # network and node is the node id in the graph. Please round the\n",
        "  # closeness centrality result to 2 decimal places.\n",
        "\n",
        "  closeness = 0\n",
        "\n",
        "  ## Note:\n",
        "  ## 1: You can use networkx closeness centrality function.\n",
        "  ## 2: Notice that networkx closeness centrality returns the normalized\n",
        "  ## closeness directly, which is different from the raw (unnormalized)\n",
        "  ## one that we learned in the lecture.\n",
        "\n",
        "  closeness = nx.closeness_centrality(G, u=node, wf_improved=False)\n",
        "  closeness = round(closeness, 2)\n",
        "\n",
        "  #########################################\n",
        "\n",
        "  return closeness\n",
        "\n",
        "node = 5\n",
        "closeness = closeness_centrality(G, node=node)\n",
        "print(\"The node 5 has closeness centrality {}\".format(closeness))"
      ]
    },
    {
      "cell_type": "markdown",
      "metadata": {},
      "source": [
        "# 3. Node Classification based on Image Attributes (30 points)\n",
        "\n",
        "For this question, you can either show your code\\&results below or report them in a separate document.\n"
      ]
    },
    {
      "cell_type": "markdown",
      "metadata": {},
      "source": [
        "**(1)** FNNs for image classification."
      ]
    },
    {
      "cell_type": "code",
      "execution_count": 15,
      "metadata": {},
      "outputs": [],
      "source": [
        "#code"
      ]
    },
    {
      "cell_type": "markdown",
      "metadata": {},
      "source": [
        "**(2)** CNNs for image classification."
      ]
    },
    {
      "cell_type": "code",
      "execution_count": 16,
      "metadata": {},
      "outputs": [],
      "source": [
        "#code "
      ]
    },
    {
      "cell_type": "markdown",
      "metadata": {},
      "source": [
        "**(3)** LSTM for image classification."
      ]
    },
    {
      "cell_type": "code",
      "execution_count": 17,
      "metadata": {},
      "outputs": [],
      "source": [
        "#code"
      ]
    },
    {
      "cell_type": "markdown",
      "metadata": {
        "id": "-vAHNjWm6MLL"
      },
      "source": [
        "# 4. Network embedding (55 points)"
      ]
    },
    {
      "cell_type": "markdown",
      "metadata": {
        "id": "i8Cdeb82xXPp"
      },
      "source": [
        "In this assignment, we are going to intensify your practice with network embedding models, specifically, we need to implement the Node2Vec model using the gensim.Word2Vec model."
      ]
    },
    {
      "cell_type": "markdown",
      "metadata": {
        "id": "q7rGg3wVxXPq"
      },
      "source": [
        "## Node2Vec Implementation (25 points)\n",
        "\n",
        "For more information about Node2Vec and the parameters q and p, see the course slides."
      ]
    },
    {
      "cell_type": "code",
      "execution_count": 18,
      "metadata": {
        "id": "rR-Jq-ix8Z6p"
      },
      "outputs": [
        {
          "ename": "ModuleNotFoundError",
          "evalue": "No module named 'numba'",
          "output_type": "error",
          "traceback": [
            "\u001b[0;31m---------------------------------------------------------------------------\u001b[0m",
            "\u001b[0;31mModuleNotFoundError\u001b[0m                       Traceback (most recent call last)",
            "Cell \u001b[0;32mIn[18], line 2\u001b[0m\n\u001b[1;32m      1\u001b[0m \u001b[38;5;66;03m# we need to install the following packages\u001b[39;00m\n\u001b[0;32m----> 2\u001b[0m \u001b[38;5;28;01mimport\u001b[39;00m\u001b[38;5;250m \u001b[39m\u001b[38;5;21;01mnumba\u001b[39;00m\n\u001b[1;32m      3\u001b[0m \u001b[38;5;28;01mimport\u001b[39;00m\u001b[38;5;250m \u001b[39m\u001b[38;5;21;01mnumpy\u001b[39;00m\u001b[38;5;250m \u001b[39m\u001b[38;5;28;01mas\u001b[39;00m\u001b[38;5;250m \u001b[39m\u001b[38;5;21;01mnp\u001b[39;00m\n\u001b[1;32m      4\u001b[0m \u001b[38;5;28;01mimport\u001b[39;00m\u001b[38;5;250m \u001b[39m\u001b[38;5;21;01mscipy\u001b[39;00m\u001b[38;5;21;01m.\u001b[39;00m\u001b[38;5;21;01msparse\u001b[39;00m\u001b[38;5;250m \u001b[39m\u001b[38;5;28;01mas\u001b[39;00m\u001b[38;5;250m \u001b[39m\u001b[38;5;21;01msp\u001b[39;00m\n",
            "\u001b[0;31mModuleNotFoundError\u001b[0m: No module named 'numba'"
          ]
        }
      ],
      "source": [
        "# we need to install the following packages\n",
        "import numba\n",
        "import numpy as np\n",
        "import scipy.sparse as sp\n",
        "from gensim.models import Word2Vec\n",
        "from sklearn.linear_model import LogisticRegression\n",
        "from sklearn.preprocessing import normalize\n",
        "from sklearn.metrics import accuracy_score"
      ]
    },
    {
      "cell_type": "code",
      "execution_count": null,
      "metadata": {
        "id": "MMnRCs1SxXPs"
      },
      "outputs": [],
      "source": [
        "def node2vec(adj, embedding_dim=64, walk_length=30, walks_per_node=10,\n",
        "                  workers=8, window_size=10, num_neg_samples=1, p=4, q=1):\n",
        "    \"\"\"\n",
        "    parameters\n",
        "    -------------\n",
        "    adj : adjacency matrix\n",
        "    embedding_dim : hidden dimension\n",
        "    walk_length : maximu length of random walks\n",
        "    walks_per_node : total number of walks generated for each node\n",
        "    workers: Number of threads\n",
        "    window_size: window size to estimate cooccurrence\n",
        "    num_neg_samples : the number of negative samples\n",
        "    p: parameter p\n",
        "    q: parameter q\n",
        "    \"\"\"\n",
        "    walks = sample_n2v_random_walks(adj, walk_length, walks_per_node, p=p, q=q) # extract important information (cooccurence) based on random walks\n",
        "    walks = [list(map(str, walk)) for walk in walks]\n",
        "    model = Word2Vec(walks, vector_size=embedding_dim,\n",
        "                     negative=num_neg_samples, compute_loss=True)\n",
        "    embedding = model.wv.vectors[np.fromiter(map(int, model.wv.index_to_key), np.int32).argsort()]\n",
        "    return embedding\n",
        "\n",
        "def sample_n2v_random_walks(adj, walk_length, walks_per_node, p, q):\n",
        "    \"\"\"\n",
        "    Return type\n",
        "    -------\n",
        "    walks : np.ndarray, shape [num_walks * num_nodes, walk_length]\n",
        "    \"\"\"\n",
        "    adj = sp.csr_matrix(adj)\n",
        "    random_walks = _n2v_random_walk(adj.indptr,\n",
        "                                    adj.indices,\n",
        "                                    walk_length,\n",
        "                                    walks_per_node,\n",
        "                                    p,\n",
        "                                    q)\n",
        "    return random_walks"
      ]
    },
    {
      "cell_type": "code",
      "execution_count": null,
      "metadata": {
        "id": "nKueM1YRxXPs"
      },
      "outputs": [],
      "source": [
        "def _n2v_random_walk(indptr,\n",
        "                    indices,\n",
        "                    walk_length,\n",
        "                    walks_per_node,\n",
        "                    p,\n",
        "                    q):\n",
        "    N = len(indptr) - 1 # node size\n",
        "    final_walks = [] # array for all walks\n",
        "    for _ in range(walks_per_node):\n",
        "        for n in range(N):\n",
        "            walk = [n]\n",
        "            ######################################\n",
        "            #\n",
        "            #      write your code here\n",
        "            #\n",
        "            #\n",
        "            ######################################\n",
        "            final_walks.append(walk)\n",
        "    return np.array(final_walks)\n"
      ]
    },
    {
      "cell_type": "code",
      "execution_count": null,
      "metadata": {
        "id": "pLcSIXH3xXPs"
      },
      "outputs": [],
      "source": [
        "@numba.jit(nopython=True)\n",
        "def random_choice(arr, p):\n",
        "    \"\"\"\n",
        "    parameter\n",
        "    ----------\n",
        "    arr : 1-D array\n",
        "    p : the sampling probability\n",
        "\n",
        "    Return\n",
        "    -------\n",
        "    samples : the sampled values\n",
        "    \"\"\"\n",
        "    return arr[np.searchsorted(np.cumsum(p), np.random.random(), side=\"right\")]"
      ]
    },
    {
      "cell_type": "markdown",
      "metadata": {
        "id": "Qu22UdofxXPt"
      },
      "source": [
        "## Train and Evaluate (20 points)"
      ]
    },
    {
      "cell_type": "code",
      "execution_count": null,
      "metadata": {
        "id": "eh-svkIuArFC"
      },
      "outputs": [],
      "source": [
        "import torch \n",
        "graph = torch.load('xx') # create a \"Movies\" folder and download the Movies dataset from the google drive. \n",
        "adj = graph['adj']\n",
        "label = graph['label']\n",
        "train_index = graph['train']\n",
        "val_index = graph['val']\n",
        "test_index = graph['test']"
      ]
    },
    {
      "cell_type": "code",
      "execution_count": null,
      "metadata": {
        "id": "eFFp2r8-Atbg"
      },
      "outputs": [],
      "source": [
        "embedding = node2vec(adj, embedding_dim=64, p=0.5, q=0.5)\n",
        "embedding.shape"
      ]
    },
    {
      "cell_type": "code",
      "execution_count": null,
      "metadata": {
        "id": "DcaEHg5JxXPt"
      },
      "outputs": [],
      "source": [
        "# You can use scikit-learn package (e.g., LogisticRegression) in this part\n",
        "def evaluate_node_classification(embedding_matrix, labels, train_idx, val_idx,\n",
        "                                 test_idx, normalize_embedding=True, max_iter=1000):\n",
        "\n",
        "    \"\"\" Train a linear model (e.g., a fnn model) to predict the label of a node\n",
        "\n",
        "    Return\n",
        "    ----\n",
        "    preds: the predicted labels by the model\n",
        "    test_acc: the test accuracy \n",
        "    \"\"\"\n",
        "    ######################################\n",
        "    #\n",
        "    #      Write your code here\n",
        "    #\n",
        "    #\n",
        "    ######################################\n",
        "    return preds, test_acc"
      ]
    },
    {
      "cell_type": "code",
      "execution_count": null,
      "metadata": {
        "id": "TkVoc6Y8Bjp1"
      },
      "outputs": [],
      "source": [
        "preds, test_acc = evaluate_node_classification(embedding, label, train_index, val_index, test_index)\n",
        "print('Test Acc: %.4f' % test_acc)"
      ]
    },
    {
      "cell_type": "markdown",
      "metadata": {
        "id": "rxrKyLhTxXPt"
      },
      "source": [
        "## Hyper-parameter tuning (10 points)"
      ]
    },
    {
      "cell_type": "markdown",
      "metadata": {
        "id": "V3JBZl7HxXPu"
      },
      "source": [
        "DeepWalk is a special case of Node2Vec by setting p=q=1. How do p and q affect Node2Vec? Explore more configurations of them and show your results using figure."
      ]
    },
    {
      "cell_type": "code",
      "execution_count": null,
      "metadata": {
        "id": "bKHPTqSFCsLC"
      },
      "outputs": [],
      "source": []
    }
  ],
  "metadata": {
    "colab": {
      "provenance": []
    },
    "kernelspec": {
      "display_name": "gnn",
      "language": "python",
      "name": "python3"
    },
    "language_info": {
      "codemirror_mode": {
        "name": "ipython",
        "version": 3
      },
      "file_extension": ".py",
      "mimetype": "text/x-python",
      "name": "python",
      "nbconvert_exporter": "python",
      "pygments_lexer": "ipython3",
      "version": "3.10.16"
    }
  },
  "nbformat": 4,
  "nbformat_minor": 0
}
